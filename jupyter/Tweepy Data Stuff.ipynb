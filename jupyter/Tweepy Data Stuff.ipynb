{
 "cells": [
  {
   "cell_type": "code",
   "execution_count": 14,
   "metadata": {},
   "outputs": [],
   "source": [
    "CONSUMER_KEY = \"ypY9L0VYFS1SPxCdYb2404Pqo\"\n",
    "CONSUMER_SECRET = \"iHaicWGmcifyf8CjnXFVpLkZG1ArTpnVoWqGyaAwqAB8HkWzZK\"\n",
    "ACCESS_TOKEN = \"879407891958059008-1lZ7IvvyeNhY5b6DA3vvZexWy9fqyUJ\"\n",
    "ACCESS_SECRET = \"i17R442o3OcD8NRxnOHMtwehq8Fzd08aa2HX94SP9w8Lc\""
   ]
  },
  {
   "cell_type": "code",
   "execution_count": 15,
   "metadata": {},
   "outputs": [],
   "source": [
    "import json\n",
    "# Import the tweepy library\n",
    "import tweepy"
   ]
  },
  {
   "cell_type": "code",
   "execution_count": 16,
   "metadata": {},
   "outputs": [],
   "source": [
    "auth = tweepy.OAuthHandler(CONSUMER_KEY, CONSUMER_SECRET)\n",
    "auth.set_access_token(ACCESS_TOKEN, ACCESS_SECRET)"
   ]
  },
  {
   "cell_type": "code",
   "execution_count": 17,
   "metadata": {},
   "outputs": [],
   "source": [
    "api = tweepy.API(auth)"
   ]
  },
  {
   "cell_type": "code",
   "execution_count": null,
   "metadata": {},
   "outputs": [],
   "source": [
    "public_tweets = api.home_timeline()\n",
    "# for tweet in public_tweets:\n",
    "#     print (tweet.text)"
   ]
  },
  {
   "cell_type": "code",
   "execution_count": 72,
   "metadata": {},
   "outputs": [
    {
     "name": "stdout",
     "output_type": "stream",
     "text": [
      "{\n",
      "    \"contributors\": null,\n",
      "    \"coordinates\": null,\n",
      "    \"created_at\": \"Sat Mar 09 01:30:05 +0000 2019\",\n",
      "    \"entities\": {\n",
      "        \"hashtags\": [],\n",
      "        \"media\": [\n",
      "            {\n",
      "                \"display_url\": \"pic.twitter.com/uJR6XZkaUO\",\n",
      "                \"expanded_url\": \"https://twitter.com/FatKidDeals/status/1104192599139774465/photo/1\",\n",
      "                \"id\": 1104192594840641541,\n",
      "                \"id_str\": \"1104192594840641541\",\n",
      "                \"indices\": [\n",
      "                    90,\n",
      "                    113\n",
      "                ],\n",
      "                \"media_url\": \"http://pbs.twimg.com/media/D1LhUJMX4AUhWZp.jpg\",\n",
      "                \"media_url_https\": \"https://pbs.twimg.com/media/D1LhUJMX4AUhWZp.jpg\",\n",
      "                \"sizes\": {\n",
      "                    \"large\": {\n",
      "                        \"h\": 1000,\n",
      "                        \"resize\": \"fit\",\n",
      "                        \"w\": 1000\n",
      "                    },\n",
      "                    \"medium\": {\n",
      "                        \"h\": 1000,\n",
      "                        \"resize\": \"fit\",\n",
      "                        \"w\": 1000\n",
      "                    },\n",
      "                    \"small\": {\n",
      "                        \"h\": 680,\n",
      "                        \"resize\": \"fit\",\n",
      "                        \"w\": 680\n",
      "                    },\n",
      "                    \"thumb\": {\n",
      "                        \"h\": 150,\n",
      "                        \"resize\": \"crop\",\n",
      "                        \"w\": 150\n",
      "                    }\n",
      "                },\n",
      "                \"type\": \"photo\",\n",
      "                \"url\": \"https://t.co/uJR6XZkaUO\"\n",
      "            }\n",
      "        ],\n",
      "        \"symbols\": [],\n",
      "        \"urls\": [\n",
      "            {\n",
      "                \"display_url\": \"amzn.to/2Ub8chW\",\n",
      "                \"expanded_url\": \"https://amzn.to/2Ub8chW\",\n",
      "                \"indices\": [\n",
      "                    66,\n",
      "                    89\n",
      "                ],\n",
      "                \"url\": \"https://t.co/ccIjsQ3Qn2\"\n",
      "            }\n",
      "        ],\n",
      "        \"user_mentions\": []\n",
      "    },\n",
      "    \"extended_entities\": {\n",
      "        \"media\": [\n",
      "            {\n",
      "                \"display_url\": \"pic.twitter.com/uJR6XZkaUO\",\n",
      "                \"expanded_url\": \"https://twitter.com/FatKidDeals/status/1104192599139774465/photo/1\",\n",
      "                \"id\": 1104192594840641541,\n",
      "                \"id_str\": \"1104192594840641541\",\n",
      "                \"indices\": [\n",
      "                    90,\n",
      "                    113\n",
      "                ],\n",
      "                \"media_url\": \"http://pbs.twimg.com/media/D1LhUJMX4AUhWZp.jpg\",\n",
      "                \"media_url_https\": \"https://pbs.twimg.com/media/D1LhUJMX4AUhWZp.jpg\",\n",
      "                \"sizes\": {\n",
      "                    \"large\": {\n",
      "                        \"h\": 1000,\n",
      "                        \"resize\": \"fit\",\n",
      "                        \"w\": 1000\n",
      "                    },\n",
      "                    \"medium\": {\n",
      "                        \"h\": 1000,\n",
      "                        \"resize\": \"fit\",\n",
      "                        \"w\": 1000\n",
      "                    },\n",
      "                    \"small\": {\n",
      "                        \"h\": 680,\n",
      "                        \"resize\": \"fit\",\n",
      "                        \"w\": 680\n",
      "                    },\n",
      "                    \"thumb\": {\n",
      "                        \"h\": 150,\n",
      "                        \"resize\": \"crop\",\n",
      "                        \"w\": 150\n",
      "                    }\n",
      "                },\n",
      "                \"type\": \"photo\",\n",
      "                \"url\": \"https://t.co/uJR6XZkaUO\"\n",
      "            }\n",
      "        ]\n",
      "    },\n",
      "    \"favorite_count\": 0,\n",
      "    \"favorited\": false,\n",
      "    \"geo\": null,\n",
      "    \"id\": 1104192599139774465,\n",
      "    \"id_str\": \"1104192599139774465\",\n",
      "    \"in_reply_to_screen_name\": null,\n",
      "    \"in_reply_to_status_id\": null,\n",
      "    \"in_reply_to_status_id_str\": null,\n",
      "    \"in_reply_to_user_id\": null,\n",
      "    \"in_reply_to_user_id_str\": null,\n",
      "    \"is_quote_status\": false,\n",
      "    \"lang\": \"en\",\n",
      "    \"place\": null,\n",
      "    \"possibly_sensitive\": false,\n",
      "    \"possibly_sensitive_appealable\": false,\n",
      "    \"retweet_count\": 0,\n",
      "    \"retweeted\": false,\n",
      "    \"source\": \"<a href=\\\"http://meetedgar.com\\\" rel=\\\"nofollow\\\">Meet Edgar</a>\",\n",
      "    \"text\": \"Get an iPhone Xs/X Tempered Glass Bundle for $8.99!!        \\n    \\nhttps://t.co/ccIjsQ3Qn2 https://t.co/uJR6XZkaUO\",\n",
      "    \"truncated\": false,\n",
      "    \"user\": {\n",
      "        \"contributors_enabled\": false,\n",
      "        \"created_at\": \"Mon Feb 24 22:37:39 +0000 2014\",\n",
      "        \"default_profile\": false,\n",
      "        \"default_profile_image\": false,\n",
      "        \"description\": \"Here to find you the best deals on the internet. Official account for Fat Kid Deals, Inc.  Amazon Associates & EPN Participant. Tweets contain affiliate links\",\n",
      "        \"entities\": {\n",
      "            \"description\": {\n",
      "                \"urls\": []\n",
      "            },\n",
      "            \"url\": {\n",
      "                \"urls\": [\n",
      "                    {\n",
      "                        \"display_url\": \"fatkiddeals.com\",\n",
      "                        \"expanded_url\": \"http://fatkiddeals.com\",\n",
      "                        \"indices\": [\n",
      "                            0,\n",
      "                            23\n",
      "                        ],\n",
      "                        \"url\": \"https://t.co/XDGt16IVQ3\"\n",
      "                    }\n",
      "                ]\n",
      "            }\n",
      "        },\n",
      "        \"favourites_count\": 37322,\n",
      "        \"follow_request_sent\": false,\n",
      "        \"followers_count\": 300280,\n",
      "        \"following\": true,\n",
      "        \"friends_count\": 3,\n",
      "        \"geo_enabled\": false,\n",
      "        \"has_extended_profile\": false,\n",
      "        \"id\": 2360121187,\n",
      "        \"id_str\": \"2360121187\",\n",
      "        \"is_translation_enabled\": false,\n",
      "        \"is_translator\": false,\n",
      "        \"lang\": \"en\",\n",
      "        \"listed_count\": 1465,\n",
      "        \"location\": \"info@fatkiddeals.com\",\n",
      "        \"name\": \"Fat Kid Deals\",\n",
      "        \"notifications\": false,\n",
      "        \"profile_background_color\": \"000000\",\n",
      "        \"profile_background_image_url\": \"http://abs.twimg.com/images/themes/theme1/bg.png\",\n",
      "        \"profile_background_image_url_https\": \"https://abs.twimg.com/images/themes/theme1/bg.png\",\n",
      "        \"profile_background_tile\": false,\n",
      "        \"profile_banner_url\": \"https://pbs.twimg.com/profile_banners/2360121187/1492222341\",\n",
      "        \"profile_image_url\": \"http://pbs.twimg.com/profile_images/853068192511643648/_BjUjz6o_normal.jpg\",\n",
      "        \"profile_image_url_https\": \"https://pbs.twimg.com/profile_images/853068192511643648/_BjUjz6o_normal.jpg\",\n",
      "        \"profile_link_color\": \"E81C4F\",\n",
      "        \"profile_sidebar_border_color\": \"000000\",\n",
      "        \"profile_sidebar_fill_color\": \"000000\",\n",
      "        \"profile_text_color\": \"000000\",\n",
      "        \"profile_use_background_image\": false,\n",
      "        \"protected\": false,\n",
      "        \"screen_name\": \"FatKidDeals\",\n",
      "        \"statuses_count\": 392612,\n",
      "        \"time_zone\": null,\n",
      "        \"translator_type\": \"none\",\n",
      "        \"url\": \"https://t.co/XDGt16IVQ3\",\n",
      "        \"utc_offset\": null,\n",
      "        \"verified\": false\n",
      "    }\n",
      "}\n"
     ]
    }
   ],
   "source": [
    "fun = public_tweets[0].__dict__\n",
    "print(json.dumps(fun['_json'], sort_keys=True, indent=4, separators=(',', ': ')))"
   ]
  },
  {
   "cell_type": "markdown",
   "metadata": {},
   "source": [
    "The data that I will use from tweets are \"text\", \"favourites_count, \", "
   ]
  },
  {
   "cell_type": "code",
   "execution_count": 43,
   "metadata": {},
   "outputs": [],
   "source": [
    "user = api.get_user('ThatWasADoozy')"
   ]
  },
  {
   "cell_type": "code",
   "execution_count": 44,
   "metadata": {},
   "outputs": [
    {
     "name": "stdout",
     "output_type": "stream",
     "text": [
      "ThatWasADoozy\n"
     ]
    }
   ],
   "source": [
    "print(user.screen_name)"
   ]
  },
  {
   "cell_type": "code",
   "execution_count": 45,
   "metadata": {},
   "outputs": [
    {
     "name": "stdout",
     "output_type": "stream",
     "text": [
      "74\n"
     ]
    }
   ],
   "source": [
    "print(user.followers_count)"
   ]
  },
  {
   "cell_type": "code",
   "execution_count": 46,
   "metadata": {},
   "outputs": [
    {
     "name": "stdout",
     "output_type": "stream",
     "text": [
      "SiddigLayla\n",
      "ChuksOgonuwe\n",
      "HBJ_28\n",
      "madison_trice\n",
      "skinner_sydney\n",
      "jamexedwin\n",
      "embrosssi\n",
      "emkoch521\n",
      "zoehugldn\n",
      "i_Know_First\n",
      "StockTwits\n",
      "prepfessions\n",
      "blvstoff_\n",
      "katherine_okumu\n",
      "mekaiwill\n",
      "maxgillmer\n",
      "jaleeli413\n",
      "FatKidDeals\n",
      "kenneth_wu224\n",
      "HotchkissHoops\n"
     ]
    }
   ],
   "source": [
    "for friend in user.friends():\n",
    "    print (friend.screen_name)"
   ]
  },
  {
   "cell_type": "code",
   "execution_count": 79,
   "metadata": {},
   "outputs": [],
   "source": [
    "cursor_results = tweepy.Cursor(api.search,\n",
    "                       q=str(\"$FB\"),\n",
    "                       since=\"2017-03-24\",\n",
    "                       until=\"2019-03-24\",\n",
    "                       lang=\"en\").items(4)"
   ]
  },
  {
   "cell_type": "code",
   "execution_count": 73,
   "metadata": {},
   "outputs": [
    {
     "name": "stdout",
     "output_type": "stream",
     "text": [
      "<tweepy.cursor.ItemIterator object at 0x1120c9d30>\n",
      "10\n"
     ]
    }
   ],
   "source": [
    "print((cursor_results))\n",
    "print(sum(1 for i in range(10)))"
   ]
  },
  {
   "cell_type": "code",
   "execution_count": 78,
   "metadata": {},
   "outputs": [
    {
     "name": "stdout",
     "output_type": "stream",
     "text": [
      "0\n"
     ]
    }
   ],
   "source": [
    "print(sum(1 for _ in cursor_results))"
   ]
  },
  {
   "cell_type": "code",
   "execution_count": 80,
   "metadata": {},
   "outputs": [
    {
     "name": "stdout",
     "output_type": "stream",
     "text": [
      "RT @theflynews: Facebook #downgraded to Hold at Needham to cap #rough week. Find out more in \"#SocialStocks\" weekly from @theflynews $FB $S…\n",
      "RT @charliebilello: % Above 52-week Low...\n",
      "$FB: +34%\n",
      "$AAPL: +33%\n",
      "$AMZN: +38%\n",
      "$NFLX: +62%\n",
      "$GOOGL: +25%\n",
      "$MSFT: +35%\n",
      "$QQQ: +25%\n",
      "\n",
      "% Below All-T…\n",
      "Get tweets in 1 watchlist for major constituents of #FTSE100 $TWTR $FB $LNKD https://t.co/7gg0FoRUNF https://t.co/hSNd8XOZf3\n",
      "RT @kpak82: $FB appears to be a clean short with gap below once it breaks neckline support. https://t.co/vJtDbkemkX\n"
     ]
    }
   ],
   "source": [
    "for tweet in cursor_results:\n",
    "    print (tweet.text)"
   ]
  },
  {
   "cell_type": "code",
   "execution_count": 66,
   "metadata": {},
   "outputs": [],
   "source": [
    "results = api.search(q=\"$AAPL\", count=3)"
   ]
  },
  {
   "cell_type": "code",
   "execution_count": 70,
   "metadata": {},
   "outputs": [
    {
     "name": "stdout",
     "output_type": "stream",
     "text": [
      "0 Megaphone / Broadening Top Pattern Explained https://t.co/d8O8guBW6L $SLV $GLD $QQQ $DJIA $DIA $SPY #stockmarket… https://t.co/1oH4z0r0Ru\n",
      "1 RT @financialbuzz: (CSE: $NERD) (OTC: $NOSUF) (FSE: $3NS.F) Breaking News: Nerds on Site Provides CEO Update to Shareholders\n",
      "$NERD, $NOSUF,…\n"
     ]
    }
   ],
   "source": [
    "for i, result in enumerate(results):\n",
    "    print (i, result.text)"
   ]
  },
  {
   "cell_type": "code",
   "execution_count": 68,
   "metadata": {},
   "outputs": [
    {
     "name": "stdout",
     "output_type": "stream",
     "text": [
      "2\n"
     ]
    }
   ],
   "source": [
    "print(len(results))"
   ]
  },
  {
   "cell_type": "code",
   "execution_count": 49,
   "metadata": {},
   "outputs": [
    {
     "name": "stdout",
     "output_type": "stream",
     "text": [
      "0 CNBC 3107453\n",
      "1 RANsquawk 51511\n",
      "2 The_Real_Fly 38557\n",
      "3 Benzinga 68625\n",
      "4 StockTwits 606849\n",
      "5 BreakoutStocks 46918\n",
      "6 bespokeinvest 74676\n",
      "7 WSJmarkets 495499\n",
      "8 Stephanie_Link 53397\n",
      "9 nytimesbusiness 780861\n",
      "10 IBDinvestors 154315\n",
      "11 WSJDealJournal 2174\n",
      "12 harmongreg 35301\n",
      "13 traderstewie 103421\n",
      "14 Bloombergnews DNE\n",
      "15 alphatrends 93634\n",
      "16 zerohedge 555167\n"
     ]
    }
   ],
   "source": [
    "# list of twitter accounts https://www.investopedia.com/financial-edge/0712/10-twitter-feeds-investors-should-follow.aspx\n",
    "stock_accounts = ['cnbc','RANsquawk','The_real_fly', 'benzinga', 'stocktwits', 'breakoutstocks', 'bespokeinvest', 'WSJMarkets', 'stephanie_link', 'nytimesbusiness', 'IBDinvestors', 'WSJDealJournal', 'Harmongreg', 'TraderStewie', 'Bloombergnews', 'Alphatrends', 'Zerohedge']\n",
    "tweets_set = set()\n",
    "for i, account in enumerate(stock_accounts):\n",
    "    try:\n",
    "        account_obj = api.get_user(account)\n",
    "        print(i, account_obj.screen_name, account_obj.followers_count)\n",
    "        \n",
    "    except:\n",
    "        print(i, account, \"DNE\")"
   ]
  },
  {
   "cell_type": "code",
   "execution_count": 9,
   "metadata": {},
   "outputs": [
    {
     "name": "stdout",
     "output_type": "stream",
     "text": [
      "RT @zoehugldn: wondering why you struggling to make authentic relationships with people, err because you're fake 😂\n",
      "Lmaoo facts https://t.co/9scMmJ8fZe\n",
      "@ChiomaOnuoha Wya? Come to throp boi\n",
      "idc what anyone says, James Blake and Young Thug are the same but in different genres!!!!!\n",
      "@hakeemangulu You are just a number.\n",
      "You are 1161 4796 1012 :(\n",
      "RT @itsmetlove: wow who knew the @chicagobulls were the best team in the west 😤💯😂 https://t.co/DBrqXGNqUE\n",
      "RT @zoehugldn: no one:\n",
      "\n",
      "chiamoge: people at this school are sociopaths. they are intrinsically bad people who lack social skills.\n",
      "Saw my nemesis on twitter today and shookity shook. This suppose to be my safe haven! 😭😭 has to hit that block button real quik\n",
      "RT @blvstoff_: 85% of college is deadass just sitting with a laptop in different locations.\n",
      "@cmulaaa_ Quoiiiiii 😱😱😱😱\n"
     ]
    }
   ],
   "source": [
    "for tweet in tweepy.Cursor(api.user_timeline).items(10):\n",
    "    # Process a single status\n",
    "    print(tweet.text)"
   ]
  },
  {
   "cell_type": "code",
   "execution_count": 10,
   "metadata": {},
   "outputs": [],
   "source": [
    "from tweepy import Stream\n",
    "from tweepy.streaming import StreamListener"
   ]
  },
  {
   "cell_type": "code",
   "execution_count": null,
   "metadata": {},
   "outputs": [],
   "source": [
    "class MyListener(StreamListener):\n",
    "    def on_data(self, data):\n",
    "        try:\n",
    "            with open('/json/facebook.json', 'a') as f:\n",
    "                f.write(data)\n",
    "                return True\n",
    "        except BaseException as e:\n",
    "            print(\"Error on_data: %s\" % str(e))\n",
    "        return True\n",
    " \n",
    "    def on_error(self, status):\n",
    "        print(status)\n",
    "        return True\n",
    " \n",
    "twitter_stream = Stream(auth, MyListener())\n",
    "twitter_stream.filter(track=['$fb'], async=True)"
   ]
  },
  {
   "cell_type": "code",
   "execution_count": 13,
   "metadata": {},
   "outputs": [
    {
     "name": "stdout",
     "output_type": "stream",
     "text": [
      "{'user': 'uedfgkbscmuagn', 'dbname': 'dfs699cidqg1jb', 'host': 'ec2-23-23-195-205.compute-1.amazonaws.com', 'port': '5432', 'tty': '', 'options': '', 'sslmode': 'prefer', 'sslcompression': '1', 'krbsrvname': 'postgres', 'target_session_attrs': 'any'} \n",
      "\n",
      "You are connected to -  ('PostgreSQL 11.2 (Ubuntu 11.2-1.pgdg16.04+1) on x86_64-pc-linux-gnu, compiled by gcc (Ubuntu 5.4.0-6ubuntu1~16.04.11) 5.4.0 20160609, 64-bit',) \n",
      "\n",
      "PostgreSQL connection is closed\n"
     ]
    },
    {
     "name": "stderr",
     "output_type": "stream",
     "text": [
      "/anaconda2/envs/py37/lib/python3.7/site-packages/psycopg2/__init__.py:144: UserWarning: The psycopg2 wheel package will be renamed from release 2.8; in order to keep installing from binary please use \"pip install psycopg2-binary\" instead. For details see: <http://initd.org/psycopg/docs/install.html#binary-install-from-pypi>.\n",
      "  \"\"\")\n"
     ]
    }
   ],
   "source": [
    "import psycopg2\n",
    "try:\n",
    "    connection = psycopg2.connect(user = \"uedfgkbscmuagn\",\n",
    "                                  password = \"4686df84d008a94cc895907718bfec99442b306af34b20d7c8c3ac7cb11bafac\",\n",
    "                                  host = \"ec2-23-23-195-205.compute-1.amazonaws.com\",\n",
    "                                  port = \"5432\",\n",
    "                                  database = \"dfs699cidqg1jb\")\n",
    "    cursor = connection.cursor()\n",
    "    # Print PostgreSQL Connection properties\n",
    "    print ( connection.get_dsn_parameters(),\"\\n\")\n",
    "    # Print PostgreSQL version\n",
    "    cursor.execute(\"SELECT version();\")\n",
    "    record = cursor.fetchone()\n",
    "    print(\"You are connected to - \", record,\"\\n\")\n",
    "except (Exception, psycopg2.Error) as error :\n",
    "    print (\"Error while connecting to PostgreSQL\", error)\n",
    "finally:\n",
    "    #closing database connection.\n",
    "        if(connection):\n",
    "            cursor.close()\n",
    "            connection.close()\n",
    "            print(\"PostgreSQL connection is closed\")"
   ]
  },
  {
   "cell_type": "code",
   "execution_count": null,
   "metadata": {},
   "outputs": [],
   "source": []
  }
 ],
 "metadata": {
  "kernelspec": {
   "display_name": "Python 3",
   "language": "python",
   "name": "python3"
  },
  "language_info": {
   "codemirror_mode": {
    "name": "ipython",
    "version": 3
   },
   "file_extension": ".py",
   "mimetype": "text/x-python",
   "name": "python",
   "nbconvert_exporter": "python",
   "pygments_lexer": "ipython3",
   "version": "3.7.1"
  }
 },
 "nbformat": 4,
 "nbformat_minor": 2
}
