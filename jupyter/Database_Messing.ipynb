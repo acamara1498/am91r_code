{
 "cells": [
  {
   "cell_type": "code",
   "execution_count": 1,
   "metadata": {},
   "outputs": [
    {
     "name": "stderr",
     "output_type": "stream",
     "text": [
      "/anaconda2/envs/py37/lib/python3.7/site-packages/psycopg2/__init__.py:144: UserWarning: The psycopg2 wheel package will be renamed from release 2.8; in order to keep installing from binary please use \"pip install psycopg2-binary\" instead. For details see: <http://initd.org/psycopg/docs/install.html#binary-install-from-pypi>.\n",
      "  \"\"\")\n"
     ]
    }
   ],
   "source": [
    "import psycopg2"
   ]
  },
  {
   "cell_type": "code",
   "execution_count": 3,
   "metadata": {},
   "outputs": [
    {
     "name": "stdout",
     "output_type": "stream",
     "text": [
      "Table created successfully in PostgreSQL \n",
      "PostgreSQL connection is closed\n"
     ]
    }
   ],
   "source": [
    "try:\n",
    "    connection = psycopg2.connect(user = \"uedfgkbscmuagn\",\n",
    "                                  password = \"4686df84d008a94cc895907718bfec99442b306af34b20d7c8c3ac7cb11bafac\",\n",
    "                                  host = \"ec2-23-23-195-205.compute-1.amazonaws.com\",\n",
    "                                  port = \"5432\",\n",
    "                                  database = \"dfs699cidqg1jb\")\n",
    "    cursor = connection.cursor()\n",
    "    \n",
    "    create_table_query = '''CREATE TABLE facebooktweets\n",
    "          (ID INT PRIMARY KEY        NOT NULL,\n",
    "          TWEET           TEXT       NOT NULL,\n",
    "          FOLLOWERS_COUNT INT        NOT NULL,\n",
    "          FAVORITE_COUNT  INT        NOT NULL,\n",
    "          DATE            TIMESTAMP  NOT NULL); '''\n",
    "    \n",
    "    cursor.execute(create_table_query)\n",
    "    connection.commit()\n",
    "    print(\"Table created successfully in PostgreSQL \")\n",
    "\n",
    "    # Print PostgreSQL Connection properties\n",
    "#     print ( connection.get_dsn_parameters(),\"\\n\")\n",
    "    # Print PostgreSQL version\n",
    "#     cursor.execute(\"SELECT version();\")\n",
    "#     record = cursor.fetchone()\n",
    "#     print(\"You are connected to - \", record,\"\\n\")\n",
    "except (Exception, psycopg2.Error) as error :\n",
    "    print (\"Error while connecting to PostgreSQL\", error)\n",
    "finally:\n",
    "    #closing database connection.\n",
    "        if(connection):\n",
    "            cursor.close()\n",
    "            connection.close()\n",
    "            print(\"PostgreSQL connection is closed\")"
   ]
  },
  {
   "cell_type": "code",
   "execution_count": 5,
   "metadata": {},
   "outputs": [],
   "source": [
    "connection = psycopg2.connect(user = \"uedfgkbscmuagn\",\n",
    "                                  password = \"4686df84d008a94cc895907718bfec99442b306af34b20d7c8c3ac7cb11bafac\",\n",
    "                                  host = \"ec2-23-23-195-205.compute-1.amazonaws.com\",\n",
    "                                  port = \"5432\",\n",
    "                                  database = \"dfs699cidqg1jb\")\n",
    "cursor = connection.cursor()"
   ]
  },
  {
   "cell_type": "code",
   "execution_count": 7,
   "metadata": {},
   "outputs": [
    {
     "name": "stdout",
     "output_type": "stream",
     "text": [
      "None\n"
     ]
    }
   ],
   "source": [
    "cursor.execute(\"SELECT * from facebooktweets;\")\n",
    "print (cursor.fetchone())"
   ]
  },
  {
   "cell_type": "code",
   "execution_count": 8,
   "metadata": {},
   "outputs": [
    {
     "name": "stdout",
     "output_type": "stream",
     "text": [
      "PostgreSQL connection is closed\n"
     ]
    }
   ],
   "source": [
    "if(connection):\n",
    "            cursor.close()\n",
    "            connection.close()\n",
    "            print(\"PostgreSQL connection is closed\")"
   ]
  },
  {
   "cell_type": "code",
   "execution_count": null,
   "metadata": {},
   "outputs": [],
   "source": [
    "def insert_into_db(tweet):\n",
    "    try:\n",
    "        connection = psycopg2.connect(user = \"uedfgkbscmuagn\",\n",
    "                                      password = \"4686df84d008a94cc895907718bfec99442b306af34b20d7c8c3ac7cb11bafac\",\n",
    "                                      host = \"ec2-23-23-195-205.compute-1.amazonaws.com\",\n",
    "                                      port = \"5432\",\n",
    "                                      database = \"dfs699cidqg1jb\")\n",
    "        cursor = connection.cursor()\n",
    "        postgres_insert_query = \"\"\" INSERT INTO facebooktweets (TWEET, FOLLOWER_COUNT, FAVORITE_COUNT, DATE) VALUES (%s,%s,%s,%S)\"\"\"\n",
    "        record_to_insert = (tweet.text, tweet.user.followers_count, tweet.favorite_count, tweet.created_at)\n",
    "        cursor.execute(postgres_insert_query, record_to_insert)\n",
    "        connection.commit()\n",
    "        count = cursor.rowcount\n",
    "        print (count, \"Record inserted successfully into facebooktweets table\")\n",
    "    except (Exception, psycopg2.Error) as error :\n",
    "        if(connection):\n",
    "            print(\"Failed to insert record into mobile table\", error)\n",
    "    finally:\n",
    "        #closing database connection.\n",
    "        if(connection):\n",
    "            cursor.close()\n",
    "            connection.close()\n",
    "            print(\"PostgreSQL connection is closed\")"
   ]
  }
 ],
 "metadata": {
  "kernelspec": {
   "display_name": "Python 3",
   "language": "python",
   "name": "python3"
  },
  "language_info": {
   "codemirror_mode": {
    "name": "ipython",
    "version": 3
   },
   "file_extension": ".py",
   "mimetype": "text/x-python",
   "name": "python",
   "nbconvert_exporter": "python",
   "pygments_lexer": "ipython3",
   "version": "3.7.1"
  }
 },
 "nbformat": 4,
 "nbformat_minor": 2
}
